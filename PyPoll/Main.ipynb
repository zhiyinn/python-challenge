{
 "cells": [
  {
   "cell_type": "code",
   "execution_count": 12,
   "metadata": {},
   "outputs": [
    {
     "name": "stdout",
     "output_type": "stream",
     "text": [
      "-------------------------\n",
      "Election Results\n",
      "-------------------------\n",
      "Total Votes : 3521001\n",
      "-------------------------\n",
      "Khan: 63.0%  (2218231)\n",
      "O'Tooley: 3.0%  (105630)\n",
      "Li: 14.0%  (492940)\n",
      "Correy: 20.0%  (704200)\n",
      "-------------------------\n",
      "Winner: Khan\n",
      "-------------------------\n"
     ]
    }
   ],
   "source": [
    "#import necessary libraries\n",
    "\n",
    "import os\n",
    "import csv\n",
    "\n",
    "#set navigational path\n",
    "path = os.path.join('../Resources/election_data.csv')\n",
    "\n",
    "#create lists/variables to store data\n",
    "count = 0\n",
    "vote_count = []\n",
    "votes_for=[]\n",
    "candidate_dict = {\"Khan\": 0, \"O'Tooley\":0,\"Li\" : 0, \"Correy\":0 }\n",
    "\n",
    "#read in the csv\n",
    "with open(path, newline='') as csvfile:\n",
    "    #skip the header row when reading in file\n",
    "    csvfile.readline()\n",
    "    \n",
    "    csvreader = csv.reader(csvfile, delimiter = ',')\n",
    "    for row in csvreader:\n",
    "        #count each vote\n",
    "        count = count + 1\n",
    "        \n",
    "        \n",
    "        #fill list with votes for candidates\n",
    "        votes_for.append(row[2])\n",
    "               \n",
    "        #need to isolate unique values in candidate list\n",
    "        candidate = row[2]\n",
    "        candidate_dict[candidate] = candidate_dict[candidate] + 1\n",
    "        \n",
    "        winner = max(candidate_dict, key=candidate_dict.get)\n",
    "\n",
    "print(\"-------------------------\")\n",
    "print(\"Election Results\")   \n",
    "print(\"-------------------------\")\n",
    "print(f\"Total Votes : {count}\")    \n",
    "print(\"-------------------------\")\n",
    "for key, value in candidate_dict.items():\n",
    "    #calculate the percentage of votes for each candidate \n",
    "    percent = (value/count)* 100\n",
    "    rounded_percent = round(percent, 2)\n",
    "    print(f\"{key}: {rounded_percent}%  ({value})\")\n",
    "print(\"-------------------------\")\n",
    "print(f\"Winner: {winner}\")\n",
    "print(\"-------------------------\")\n",
    "\n",
    "with open('election_results.txt', 'w') as text:\n",
    "    text.write(f'''\n",
    "    -------------------------\n",
    "    Election Results   \n",
    "    -------------------------\n",
    "    Total Votes : {count}  \n",
    "    -------------------------\n",
    "    ''')\n",
    "    for key, value in candidate_dict.items():\n",
    "        #calculate the percentage of votes for each candidate \n",
    "        percent = (value/count)* 100\n",
    "        rounded_percent = round(percent, 2)\n",
    "        text.write( f'''\n",
    "        {key}: {rounded_percent}%  ({value})''')\n",
    "    text.write(f'''\n",
    "    -------------------------\n",
    "    Winner: {winner}\n",
    "    -------------------------''')\n",
    "    "
   ]
  },
  {
   "cell_type": "code",
   "execution_count": null,
   "metadata": {},
   "outputs": [],
   "source": []
  }
 ],
 "metadata": {
  "kernelspec": {
   "display_name": "Python 3",
   "language": "python",
   "name": "python3"
  },
  "language_info": {
   "codemirror_mode": {
    "name": "ipython",
    "version": 3
   },
   "file_extension": ".py",
   "mimetype": "text/x-python",
   "name": "python",
   "nbconvert_exporter": "python",
   "pygments_lexer": "ipython3",
   "version": "3.7.0"
  }
 },
 "nbformat": 4,
 "nbformat_minor": 2
}
