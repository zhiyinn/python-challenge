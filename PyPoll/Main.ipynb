{
 "cells": [
  {
   "cell_type": "code",
   "execution_count": 1,
   "metadata": {},
   "outputs": [],
   "source": [
    "#import necessary libraries\n",
    "\n",
    "import os\n",
    "import csv\n",
    "\n",
    "\n",
    "#set navigational path\n",
    "path = os.path.join('../Resources/election_data.csv')"
   ]
  },
  {
   "cell_type": "code",
   "execution_count": 2,
   "metadata": {},
   "outputs": [],
   "source": [
    "#create lists/variables to store data\n",
    "count = 0\n",
    "vote_count = []\n",
    "votes_for=[]"
   ]
  },
  {
   "cell_type": "code",
   "execution_count": null,
   "metadata": {},
   "outputs": [],
   "source": [
    "#read in the csv\n",
    "with open(path, newline='') as csvfile:\n",
    "    #skip the header row when reading in file\n",
    "    csvfile.readline()\n",
    "    \n",
    "    csvreader = csv.reader(csvfile, delimiter = ',')\n",
    "    for row in csvreader:\n",
    "        #count each vote\n",
    "        count = count + 1\n",
    "        \n",
    "        #fill list with votes for candidates\n",
    "        votes_for.append(row[2])\n",
    "               \n",
    "        #need to isolate unique values in candidate list\n",
    "        #create output as set instead of list\n",
    "        candidates = set()\n",
    "        for x in votes_for:\n",
    "            candidates.add(x)\n",
    "#             #count number of votes for each candidate\n",
    "#             [num_votes= votes_for.count(x)]<--this line appears to be problematic\n",
    "#             #put number of votes in a list\n",
    "#             vote_count.append(num_votes)\n",
    "            \n",
    "#             #calculate the percentage of votes for each candidate \n",
    "#             percent = (num_votes/count) * 100"
   ]
  },
  {
   "cell_type": "code",
   "execution_count": null,
   "metadata": {},
   "outputs": [],
   "source": [
    "print(votes_for)\n",
    "print(vote_count)"
   ]
  },
  {
   "cell_type": "code",
   "execution_count": null,
   "metadata": {},
   "outputs": [],
   "source": []
  },
  {
   "cell_type": "code",
   "execution_count": null,
   "metadata": {},
   "outputs": [],
   "source": []
  },
  {
   "cell_type": "code",
   "execution_count": null,
   "metadata": {},
   "outputs": [],
   "source": []
  }
 ],
 "metadata": {
  "kernelspec": {
   "display_name": "Python 3",
   "language": "python",
   "name": "python3"
  },
  "language_info": {
   "codemirror_mode": {
    "name": "ipython",
    "version": 3
   },
   "file_extension": ".py",
   "mimetype": "text/x-python",
   "name": "python",
   "nbconvert_exporter": "python",
   "pygments_lexer": "ipython3",
   "version": "3.7.0"
  }
 },
 "nbformat": 4,
 "nbformat_minor": 2
}
